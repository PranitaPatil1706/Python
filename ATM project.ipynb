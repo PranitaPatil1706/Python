{
 "cells": [
  {
   "cell_type": "code",
   "execution_count": 2,
   "id": "eb964167",
   "metadata": {},
   "outputs": [],
   "source": [
    "# Name : Pranita Pramod Patil\n",
    "# Project name : ATM project\n",
    "\n",
    "# ATM class\n",
    "# withdraw\n",
    "# deposit\n",
    "# balance check\n",
    "# pin set\n",
    "# balance\n",
    "# pin\n",
    "\n",
    "\n",
    "class ATM:\n",
    "    _pin = \"\"\n",
    "    _balance = 0\n",
    "    \n",
    "    def __init__(self, bank_name):\n",
    "        self.name = bank_name\n",
    "        print(\"Welcome to {} bank ATM\".format(self.name))\n",
    "        self.menu()\n",
    "        \n",
    "    def menu(self):\n",
    "        choice = int(input(\"\"\"Please select the option\n",
    "            1. PIN Set\n",
    "            2. Balance check\n",
    "            3. Deposite\n",
    "            4. Withdraw\n",
    "            5. Exit\n",
    "            : \"\"\"))\n",
    "        if choice == 1:\n",
    "            self.set_pin()\n",
    "        elif choice == 2:\n",
    "            self.check_balance()\n",
    "        elif choice == 3:\n",
    "            self.deposit()\n",
    "        elif choice == 4:\n",
    "            self.withdraw()\n",
    "        elif choice == 5:\n",
    "            print(\"Thank You for banking with {}.\".format(self.name))\n",
    "            return\n",
    "        \n",
    "    def set_pin(self):\n",
    "        self._pin = input(\"Enter new pin : \")\n",
    "        \n",
    "    def check_balance(self):\n",
    "        check = input(\"Enter your PIN : \")\n",
    "        if check == self._pin:\n",
    "            print(\"Your account balance is\",self._balance)\n",
    "        else:\n",
    "            print(\"Wrong pin\")\n",
    "            print(\"Thank You for banking with {}.\".format(self.name))\n",
    "                \n",
    "    def deposit(self):\n",
    "        check = input(\"Enter you PIN : \")\n",
    "        if check == self. _pin:\n",
    "            amount = int(input(\"Enter amount to deposit : \"))\n",
    "            self._balance += amount\n",
    "            print(\"amount is deposited....\")\n",
    "        else:\n",
    "            print(\"wrong pin\")\n",
    "            print(\"Thank you for banking with {}.\".format(self.name))\n",
    "    \n",
    "        \n",
    "    def withdraw(self):\n",
    "            check = input(\"Enter your PIN : \")\n",
    "            if check == self._pin:\n",
    "                amount = int(input(\"Enter amount to deposit.. : \"))\n",
    "                if amount <= self._balance:\n",
    "                    self._balance -= amount\n",
    "                    print(f\"{amount}Amount is deducted\")\n",
    "                else:\n",
    "                    print(\"Insufficient balance..\")\n",
    "                    print(\"Amount is not deducted\")\n",
    "                \n",
    "            else:\n",
    "                print(\"Wrong pin\")\n",
    "                print(\"Thank You for banking with {}.\".format(self.name))\n",
    "            \n",
    "                "
   ]
  },
  {
   "cell_type": "code",
   "execution_count": 3,
   "id": "3c417ac7",
   "metadata": {},
   "outputs": [
    {
     "name": "stdout",
     "output_type": "stream",
     "text": [
      "Welcome to SBI bank ATM\n",
      "Please select the option\n",
      "            1. PIN Set\n",
      "            2. Balance check\n",
      "            3. Deposite\n",
      "            4. Withdraw\n",
      "            5. Exit\n",
      "            : 1\n",
      "Enter new pin : 2222\n"
     ]
    }
   ],
   "source": [
    "sbi = ATM(\"SBI\")"
   ]
  },
  {
   "cell_type": "code",
   "execution_count": 4,
   "id": "a1a7e84c",
   "metadata": {},
   "outputs": [
    {
     "name": "stdout",
     "output_type": "stream",
     "text": [
      "Enter your PIN : 2222\n",
      "Your account balance is 0\n"
     ]
    }
   ],
   "source": [
    "sbi.check_balance()"
   ]
  },
  {
   "cell_type": "code",
   "execution_count": 5,
   "id": "f89a0f38",
   "metadata": {},
   "outputs": [
    {
     "name": "stdout",
     "output_type": "stream",
     "text": [
      "Enter you PIN : 2222\n",
      "Enter amount to deposit : 30000\n",
      "amount is deposited....\n"
     ]
    }
   ],
   "source": [
    "sbi.deposit()"
   ]
  },
  {
   "cell_type": "code",
   "execution_count": 6,
   "id": "f57f9542",
   "metadata": {},
   "outputs": [
    {
     "name": "stdout",
     "output_type": "stream",
     "text": [
      "Enter your PIN : 2222\n",
      "Enter amount to deposit.. : 2000\n",
      "2000Amount is deducted\n"
     ]
    }
   ],
   "source": [
    "sbi.withdraw()"
   ]
  },
  {
   "cell_type": "code",
   "execution_count": 7,
   "id": "119bd747",
   "metadata": {},
   "outputs": [
    {
     "name": "stdout",
     "output_type": "stream",
     "text": [
      "Enter your PIN : 2222\n",
      "Your account balance is 28000\n"
     ]
    }
   ],
   "source": [
    "sbi.check_balance()"
   ]
  },
  {
   "cell_type": "code",
   "execution_count": null,
   "id": "3e06d0cb",
   "metadata": {},
   "outputs": [],
   "source": []
  }
 ],
 "metadata": {
  "kernelspec": {
   "display_name": "Python 3 (ipykernel)",
   "language": "python",
   "name": "python3"
  },
  "language_info": {
   "codemirror_mode": {
    "name": "ipython",
    "version": 3
   },
   "file_extension": ".py",
   "mimetype": "text/x-python",
   "name": "python",
   "nbconvert_exporter": "python",
   "pygments_lexer": "ipython3",
   "version": "3.11.3"
  }
 },
 "nbformat": 4,
 "nbformat_minor": 5
}
