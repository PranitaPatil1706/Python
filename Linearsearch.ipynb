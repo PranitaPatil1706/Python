{
 "cells": [
  {
   "cell_type": "markdown",
   "id": "7cbbc3fa",
   "metadata": {},
   "source": [
    "# simple linear search"
   ]
  },
  {
   "cell_type": "code",
   "execution_count": 1,
   "id": "c61e1592",
   "metadata": {},
   "outputs": [],
   "source": [
    "ls = [23,4,93,29,43,127,320]"
   ]
  },
  {
   "cell_type": "code",
   "execution_count": 2,
   "id": "af9787e1",
   "metadata": {},
   "outputs": [],
   "source": [
    "ele = 5000"
   ]
  },
  {
   "cell_type": "code",
   "execution_count": 3,
   "id": "aa6a89c3",
   "metadata": {},
   "outputs": [
    {
     "name": "stdout",
     "output_type": "stream",
     "text": [
      "not found\n"
     ]
    }
   ],
   "source": [
    "for i in ls:\n",
    "    if i == ele:\n",
    "        print(ls.index(i))\n",
    "    else:\n",
    "        pass\n",
    "else:\n",
    "    print(\"not found\")"
   ]
  },
  {
   "cell_type": "markdown",
   "id": "b255d055",
   "metadata": {},
   "source": [
    "# using function linear function"
   ]
  },
  {
   "cell_type": "code",
   "execution_count": 7,
   "id": "8f01fa7c",
   "metadata": {},
   "outputs": [],
   "source": [
    "ls = [23,4,93,29,43,127,320]\n",
    "ele = 43"
   ]
  },
  {
   "cell_type": "code",
   "execution_count": 8,
   "id": "941a5f74",
   "metadata": {},
   "outputs": [],
   "source": [
    "def linear_search(ls,ele):\n",
    "    for i in ls:\n",
    "        if i == ele:\n",
    "            return ls.index(i)\n",
    "        else:\n",
    "            pass\n",
    "    else:\n",
    "        print(\"not found\")"
   ]
  },
  {
   "cell_type": "code",
   "execution_count": 9,
   "id": "9c3d0e4e",
   "metadata": {},
   "outputs": [
    {
     "data": {
      "text/plain": [
       "4"
      ]
     },
     "execution_count": 9,
     "metadata": {},
     "output_type": "execute_result"
    }
   ],
   "source": [
    "linear_search(ls,ele)"
   ]
  }
 ],
 "metadata": {
  "kernelspec": {
   "display_name": "Python 3 (ipykernel)",
   "language": "python",
   "name": "python3"
  },
  "language_info": {
   "codemirror_mode": {
    "name": "ipython",
    "version": 3
   },
   "file_extension": ".py",
   "mimetype": "text/x-python",
   "name": "python",
   "nbconvert_exporter": "python",
   "pygments_lexer": "ipython3",
   "version": "3.11.3"
  }
 },
 "nbformat": 4,
 "nbformat_minor": 5
}
