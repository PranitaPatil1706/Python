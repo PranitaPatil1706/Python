{
 "cells": [
  {
   "cell_type": "markdown",
   "id": "7815999c",
   "metadata": {},
   "source": [
    "# simple binary search"
   ]
  },
  {
   "cell_type": "code",
   "execution_count": null,
   "id": "506d441f",
   "metadata": {},
   "outputs": [],
   "source": [
    "ls = [1,2,4,5,45,22,87,27,64,0,32]"
   ]
  },
  {
   "cell_type": "code",
   "execution_count": 2,
   "id": "0648c2ab",
   "metadata": {},
   "outputs": [],
   "source": [
    "sorted_ls = ls.sort()"
   ]
  },
  {
   "cell_type": "code",
   "execution_count": 3,
   "id": "2cf8048f",
   "metadata": {},
   "outputs": [
    {
     "name": "stdout",
     "output_type": "stream",
     "text": [
      "[0, 1, 2, 4, 5, 22, 27, 32, 45, 64, 87]\n"
     ]
    }
   ],
   "source": [
    "print(ls)"
   ]
  },
  {
   "cell_type": "code",
   "execution_count": 8,
   "id": "6aa9bd3d",
   "metadata": {},
   "outputs": [],
   "source": [
    "ele = 4\n",
    "start = 0\n",
    "end = len(ls)-1"
   ]
  },
  {
   "cell_type": "code",
   "execution_count": 9,
   "id": "5751f85b",
   "metadata": {},
   "outputs": [
    {
     "name": "stdout",
     "output_type": "stream",
     "text": [
      "0\n"
     ]
    }
   ],
   "source": [
    "print(ls[start])"
   ]
  },
  {
   "cell_type": "code",
   "execution_count": 12,
   "id": "cf6ad7c7",
   "metadata": {},
   "outputs": [
    {
     "name": "stdout",
     "output_type": "stream",
     "text": [
      "5\n"
     ]
    }
   ],
   "source": [
    "print(ls[end])"
   ]
  },
  {
   "cell_type": "code",
   "execution_count": 13,
   "id": "bd6ff1eb",
   "metadata": {},
   "outputs": [
    {
     "name": "stdout",
     "output_type": "stream",
     "text": [
      "Element found at index 3\n"
     ]
    }
   ],
   "source": [
    "while start <= end:\n",
    "    mid = (start + end )//2\n",
    "    \n",
    "    if ls[mid] < ele:\n",
    "        start = mid + 1\n",
    "        \n",
    "    elif ls[mid] > ele:\n",
    "        end = mid - 1\n",
    "    else:\n",
    "        print(\"Element found at index\",mid)\n",
    "        break\n",
    "    \n",
    "else:\n",
    "    print(\"Element not found\")\n",
    "    \n",
    "    "
   ]
  },
  {
   "cell_type": "code",
   "execution_count": 16,
   "id": "dd7dac13",
   "metadata": {},
   "outputs": [
    {
     "data": {
      "text/plain": [
       "4"
      ]
     },
     "execution_count": 16,
     "metadata": {},
     "output_type": "execute_result"
    }
   ],
   "source": [
    "9//2"
   ]
  },
  {
   "cell_type": "code",
   "execution_count": 18,
   "id": "00775db9",
   "metadata": {},
   "outputs": [
    {
     "data": {
      "text/plain": [
       "6"
      ]
     },
     "execution_count": 18,
     "metadata": {},
     "output_type": "execute_result"
    }
   ],
   "source": [
    "13//2"
   ]
  },
  {
   "cell_type": "code",
   "execution_count": null,
   "id": "a772659d",
   "metadata": {},
   "outputs": [],
   "source": []
  },
  {
   "cell_type": "markdown",
   "id": "a239ba91",
   "metadata": {},
   "source": [
    "# function in binary search"
   ]
  },
  {
   "cell_type": "code",
   "execution_count": 19,
   "id": "a229d7b6",
   "metadata": {},
   "outputs": [],
   "source": [
    "ls = [1,2,4,5,45,22,87,27,64,0,32]"
   ]
  },
  {
   "cell_type": "code",
   "execution_count": 20,
   "id": "5df7079c",
   "metadata": {},
   "outputs": [],
   "source": [
    "sorted_ls = ls.sort()"
   ]
  },
  {
   "cell_type": "code",
   "execution_count": 21,
   "id": "9badcb82",
   "metadata": {},
   "outputs": [
    {
     "name": "stdout",
     "output_type": "stream",
     "text": [
      "[0, 1, 2, 4, 5, 22, 27, 32, 45, 64, 87]\n"
     ]
    }
   ],
   "source": [
    "print(ls)"
   ]
  },
  {
   "cell_type": "code",
   "execution_count": 22,
   "id": "c2b3f444",
   "metadata": {},
   "outputs": [],
   "source": [
    "ele = 27\n",
    "start = 0\n",
    "end = len(ls)-1"
   ]
  },
  {
   "cell_type": "code",
   "execution_count": 24,
   "id": "84f6f027",
   "metadata": {},
   "outputs": [],
   "source": [
    "def binary_search(start,end):\n",
    "    while start <= end:\n",
    "        mid = (start + end )//2\n",
    "        if ls[mid] < ele:\n",
    "            start = mid + 1\n",
    "        elif ls[mid] > ele:\n",
    "            end = mid - 1\n",
    "        else:\n",
    "            print(\"Element found at index\",mid)\n",
    "            break\n",
    "    else:\n",
    "        print(\"Element not found\")\n",
    "    \n",
    "    "
   ]
  },
  {
   "cell_type": "code",
   "execution_count": 25,
   "id": "355b8479",
   "metadata": {},
   "outputs": [
    {
     "name": "stdout",
     "output_type": "stream",
     "text": [
      "Element found at index 6\n"
     ]
    }
   ],
   "source": [
    "binary_search(start,end)"
   ]
  }
 ],
 "metadata": {
  "kernelspec": {
   "display_name": "Python 3 (ipykernel)",
   "language": "python",
   "name": "python3"
  },
  "language_info": {
   "codemirror_mode": {
    "name": "ipython",
    "version": 3
   },
   "file_extension": ".py",
   "mimetype": "text/x-python",
   "name": "python",
   "nbconvert_exporter": "python",
   "pygments_lexer": "ipython3",
   "version": "3.11.3"
  }
 },
 "nbformat": 4,
 "nbformat_minor": 5
}
